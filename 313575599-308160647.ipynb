{
 "cells": [
  {
   "cell_type": "code",
   "execution_count": 1,
   "metadata": {
    "collapsed": true
   },
   "outputs": [],
   "source": [
    "import numpy as np\n",
    "import pandas as pd\n",
    "import matplotlib.pyplot as plt\n",
    "import seaborn as sns"
   ]
  },
  {
   "cell_type": "code",
   "execution_count": 2,
   "outputs": [],
   "source": [
    "dataset = pd.read_csv(\"train_df_clean.csv\")"
   ],
   "metadata": {
    "collapsed": false,
    "pycharm": {
     "name": "#%%\n"
    }
   }
  },
  {
   "cell_type": "code",
   "execution_count": 4,
   "outputs": [
    {
     "data": {
      "text/plain": "   Unnamed: 0  num_of_siblings    PCR_01    PCR_02      PCR_03     PCR_06  \\\n0         104              2.0 -0.573211 -0.719066   54.710912  -3.352526   \n1         938              0.0 -0.269621  0.856951  261.491002  -2.242067   \n2         152              5.0 -0.098708 -0.133210  152.614436  -2.529254   \n3        2404              1.0 -0.626930  0.775240  283.656974  12.236025   \n4        2603              3.0  0.978812 -0.371731  317.362359  -6.819434   \n\n   PCR_10  risk spread  covid  blood_A_AB  \n0     7.0   Low   High   True           1  \n1     4.0   Low   High   True           0  \n2     6.0  High    Low  False           0  \n3     3.0  High   High   True           1  \n4     4.0   Low   High  False           0  ",
      "text/html": "<div>\n<style scoped>\n    .dataframe tbody tr th:only-of-type {\n        vertical-align: middle;\n    }\n\n    .dataframe tbody tr th {\n        vertical-align: top;\n    }\n\n    .dataframe thead th {\n        text-align: right;\n    }\n</style>\n<table border=\"1\" class=\"dataframe\">\n  <thead>\n    <tr style=\"text-align: right;\">\n      <th></th>\n      <th>Unnamed: 0</th>\n      <th>num_of_siblings</th>\n      <th>PCR_01</th>\n      <th>PCR_02</th>\n      <th>PCR_03</th>\n      <th>PCR_06</th>\n      <th>PCR_10</th>\n      <th>risk</th>\n      <th>spread</th>\n      <th>covid</th>\n      <th>blood_A_AB</th>\n    </tr>\n  </thead>\n  <tbody>\n    <tr>\n      <th>0</th>\n      <td>104</td>\n      <td>2.0</td>\n      <td>-0.573211</td>\n      <td>-0.719066</td>\n      <td>54.710912</td>\n      <td>-3.352526</td>\n      <td>7.0</td>\n      <td>Low</td>\n      <td>High</td>\n      <td>True</td>\n      <td>1</td>\n    </tr>\n    <tr>\n      <th>1</th>\n      <td>938</td>\n      <td>0.0</td>\n      <td>-0.269621</td>\n      <td>0.856951</td>\n      <td>261.491002</td>\n      <td>-2.242067</td>\n      <td>4.0</td>\n      <td>Low</td>\n      <td>High</td>\n      <td>True</td>\n      <td>0</td>\n    </tr>\n    <tr>\n      <th>2</th>\n      <td>152</td>\n      <td>5.0</td>\n      <td>-0.098708</td>\n      <td>-0.133210</td>\n      <td>152.614436</td>\n      <td>-2.529254</td>\n      <td>6.0</td>\n      <td>High</td>\n      <td>Low</td>\n      <td>False</td>\n      <td>0</td>\n    </tr>\n    <tr>\n      <th>3</th>\n      <td>2404</td>\n      <td>1.0</td>\n      <td>-0.626930</td>\n      <td>0.775240</td>\n      <td>283.656974</td>\n      <td>12.236025</td>\n      <td>3.0</td>\n      <td>High</td>\n      <td>High</td>\n      <td>True</td>\n      <td>1</td>\n    </tr>\n    <tr>\n      <th>4</th>\n      <td>2603</td>\n      <td>3.0</td>\n      <td>0.978812</td>\n      <td>-0.371731</td>\n      <td>317.362359</td>\n      <td>-6.819434</td>\n      <td>4.0</td>\n      <td>Low</td>\n      <td>High</td>\n      <td>False</td>\n      <td>0</td>\n    </tr>\n  </tbody>\n</table>\n</div>"
     },
     "execution_count": 4,
     "metadata": {},
     "output_type": "execute_result"
    }
   ],
   "source": [
    "dataset.head()"
   ],
   "metadata": {
    "collapsed": false,
    "pycharm": {
     "name": "#%%\n"
    }
   }
  },
  {
   "cell_type": "code",
   "execution_count": null,
   "outputs": [],
   "source": [],
   "metadata": {
    "collapsed": false,
    "pycharm": {
     "name": "#%%\n"
    }
   }
  }
 ],
 "metadata": {
  "kernelspec": {
   "display_name": "Python 3",
   "language": "python",
   "name": "python3"
  },
  "language_info": {
   "codemirror_mode": {
    "name": "ipython",
    "version": 2
   },
   "file_extension": ".py",
   "mimetype": "text/x-python",
   "name": "python",
   "nbconvert_exporter": "python",
   "pygments_lexer": "ipython2",
   "version": "2.7.6"
  }
 },
 "nbformat": 4,
 "nbformat_minor": 0
}